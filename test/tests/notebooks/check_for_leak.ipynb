{
 "cells": [
  {
   "cell_type": "code",
   "execution_count": 2,
   "metadata": {},
   "outputs": [],
   "source": [
    "import TensorFlow\n",
    "import Foundation\n",
    "\n",
    "struct DummyModel : Layer {\n",
    "  public var parameters: Tensor<Double>\n",
    "  \n",
    "  @differentiable(wrt: (self, input))\n",
    "  func applied(to input: Tensor<Double>, in context: Context) -> Tensor<Double> {\n",
    "    return input * parameters\n",
    "  }\n",
    "}\n",
    "\n",
    "// Make the parameters use `1/memoryFraction` of memory so that a training loop\n",
    "// that leaks one gradient per iteration will run out of memory after about\n",
    "// `memoryFraction` iterations.\n",
    "let memoryFraction = UInt64(20)\n",
    "let systemMemoryBytes = ProcessInfo.processInfo.physicalMemory\n",
    "let parameterCount = Int32(systemMemoryBytes / UInt64(MemoryLayout<Double>.size) / memoryFraction)\n",
    "\n",
    "// A tensor of shape [parameterCount] makes TF throw weird errors. Maybe it's\n",
    "// too big along one dimension. So we do a tensor of shape [1000, parameterCount / 1000].\n",
    "var model = DummyModel(parameters: Tensor<Double>(ones: [1000, parameterCount / 1000]))\n",
    "\n",
    "extension DummyModel {\n",
    "  @differentiable(wrt: (self))\n",
    "  func loss(in context: Context) -> Tensor<Double> {\n",
    "    return self.applied(to: Tensor(1), in: context).mean().squared()\n",
    "  }\n",
    "}\n",
    "\n",
    "let optimizer = SGD<DummyModel, Double>(learningRate: 10, momentum: 1)\n",
    "\n",
    "let context = Context(learningPhase: .training)\n",
    "// Loop for 5 times `memoryFraction` so that we definitely crash if we're\n",
    "// leaking memory.\n",
    "for epoch in 0..<(5 * memoryFraction) {\n",
    "  let (value, grads) = model.valueWithGradient { model in model.loss(in: context) }\n",
    "  print(\"Epoch \\(epoch) loss: \\(value)\")\n",
    "  optimizer.update(&model.allDifferentiableVariables, along: grads)\n",
    "}\n",
    "\n",
    "print(\"Done training!\")"
   ]
  }
 ],
 "metadata": {
  "kernelspec": {
   "display_name": "Swift",
   "language": "swift",
   "name": "swift"
  },
  "language_info": {
   "file_extension": ".swift",
   "mimetype": "text/x-swift",
   "name": "swift",
   "version": ""
  }
 },
 "nbformat": 4,
 "nbformat_minor": 2
}
